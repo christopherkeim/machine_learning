{
 "cells": [
  {
   "cell_type": "markdown",
   "id": "308fa503",
   "metadata": {
    "papermill": {
     "duration": 0.0075,
     "end_time": "2023-03-06T08:14:34.287871",
     "exception": false,
     "start_time": "2023-03-06T08:14:34.280371",
     "status": "completed"
    },
    "tags": []
   },
   "source": [
    "# Fetal Health Classification\n",
    "\n",
    "**Overview**\n",
    "\n",
    "Here we'll attempt to create machine learning models able to classify different fetal Cardiotocograms (CTGs) into one of three different classes: Normal, Suspect, or Pathological. \n",
    "\n",
    "The researchers who created this dataset did a very thorough job preprocessing and generating useful statistics with their data, and this is an excellent dataset to test the performance of different machine learning models using numerical features. "
   ]
  },
  {
   "cell_type": "code",
   "execution_count": 1,
   "id": "67c17f70",
   "metadata": {
    "execution": {
     "iopub.execute_input": "2023-03-06T08:14:34.303681Z",
     "iopub.status.busy": "2023-03-06T08:14:34.302783Z",
     "iopub.status.idle": "2023-03-06T08:14:34.340849Z",
     "shell.execute_reply": "2023-03-06T08:14:34.339533Z"
    },
    "papermill": {
     "duration": 0.049445,
     "end_time": "2023-03-06T08:14:34.344231",
     "exception": false,
     "start_time": "2023-03-06T08:14:34.294786",
     "status": "completed"
    },
    "tags": []
   },
   "outputs": [],
   "source": [
    "import pandas as pd\n",
    "\n",
    "#Read the dataset into a DataFrame\n",
    "fetal_data = pd.read_csv('../Data/fetal_health.csv')\n"
   ]
  },
  {
   "cell_type": "code",
   "execution_count": 2,
   "id": "e0789c49",
   "metadata": {
    "execution": {
     "iopub.execute_input": "2023-03-06T08:14:34.358845Z",
     "iopub.status.busy": "2023-03-06T08:14:34.358389Z",
     "iopub.status.idle": "2023-03-06T08:14:34.412834Z",
     "shell.execute_reply": "2023-03-06T08:14:34.411466Z"
    },
    "papermill": {
     "duration": 0.065486,
     "end_time": "2023-03-06T08:14:34.416110",
     "exception": false,
     "start_time": "2023-03-06T08:14:34.350624",
     "status": "completed"
    },
    "tags": []
   },
   "outputs": [
    {
     "data": {
      "text/html": [
       "<div>\n",
       "<style scoped>\n",
       "    .dataframe tbody tr th:only-of-type {\n",
       "        vertical-align: middle;\n",
       "    }\n",
       "\n",
       "    .dataframe tbody tr th {\n",
       "        vertical-align: top;\n",
       "    }\n",
       "\n",
       "    .dataframe thead th {\n",
       "        text-align: right;\n",
       "    }\n",
       "</style>\n",
       "<table border=\"1\" class=\"dataframe\">\n",
       "  <thead>\n",
       "    <tr style=\"text-align: right;\">\n",
       "      <th></th>\n",
       "      <th>baseline value</th>\n",
       "      <th>accelerations</th>\n",
       "      <th>fetal_movement</th>\n",
       "      <th>uterine_contractions</th>\n",
       "      <th>light_decelerations</th>\n",
       "      <th>severe_decelerations</th>\n",
       "      <th>prolongued_decelerations</th>\n",
       "      <th>abnormal_short_term_variability</th>\n",
       "      <th>mean_value_of_short_term_variability</th>\n",
       "      <th>percentage_of_time_with_abnormal_long_term_variability</th>\n",
       "      <th>...</th>\n",
       "      <th>histogram_min</th>\n",
       "      <th>histogram_max</th>\n",
       "      <th>histogram_number_of_peaks</th>\n",
       "      <th>histogram_number_of_zeroes</th>\n",
       "      <th>histogram_mode</th>\n",
       "      <th>histogram_mean</th>\n",
       "      <th>histogram_median</th>\n",
       "      <th>histogram_variance</th>\n",
       "      <th>histogram_tendency</th>\n",
       "      <th>fetal_health</th>\n",
       "    </tr>\n",
       "  </thead>\n",
       "  <tbody>\n",
       "    <tr>\n",
       "      <th>0</th>\n",
       "      <td>120.0</td>\n",
       "      <td>0.000</td>\n",
       "      <td>0.0</td>\n",
       "      <td>0.000</td>\n",
       "      <td>0.000</td>\n",
       "      <td>0.0</td>\n",
       "      <td>0.0</td>\n",
       "      <td>73.0</td>\n",
       "      <td>0.5</td>\n",
       "      <td>43.0</td>\n",
       "      <td>...</td>\n",
       "      <td>62.0</td>\n",
       "      <td>126.0</td>\n",
       "      <td>2.0</td>\n",
       "      <td>0.0</td>\n",
       "      <td>120.0</td>\n",
       "      <td>137.0</td>\n",
       "      <td>121.0</td>\n",
       "      <td>73.0</td>\n",
       "      <td>1.0</td>\n",
       "      <td>2.0</td>\n",
       "    </tr>\n",
       "    <tr>\n",
       "      <th>1</th>\n",
       "      <td>132.0</td>\n",
       "      <td>0.006</td>\n",
       "      <td>0.0</td>\n",
       "      <td>0.006</td>\n",
       "      <td>0.003</td>\n",
       "      <td>0.0</td>\n",
       "      <td>0.0</td>\n",
       "      <td>17.0</td>\n",
       "      <td>2.1</td>\n",
       "      <td>0.0</td>\n",
       "      <td>...</td>\n",
       "      <td>68.0</td>\n",
       "      <td>198.0</td>\n",
       "      <td>6.0</td>\n",
       "      <td>1.0</td>\n",
       "      <td>141.0</td>\n",
       "      <td>136.0</td>\n",
       "      <td>140.0</td>\n",
       "      <td>12.0</td>\n",
       "      <td>0.0</td>\n",
       "      <td>1.0</td>\n",
       "    </tr>\n",
       "    <tr>\n",
       "      <th>2</th>\n",
       "      <td>133.0</td>\n",
       "      <td>0.003</td>\n",
       "      <td>0.0</td>\n",
       "      <td>0.008</td>\n",
       "      <td>0.003</td>\n",
       "      <td>0.0</td>\n",
       "      <td>0.0</td>\n",
       "      <td>16.0</td>\n",
       "      <td>2.1</td>\n",
       "      <td>0.0</td>\n",
       "      <td>...</td>\n",
       "      <td>68.0</td>\n",
       "      <td>198.0</td>\n",
       "      <td>5.0</td>\n",
       "      <td>1.0</td>\n",
       "      <td>141.0</td>\n",
       "      <td>135.0</td>\n",
       "      <td>138.0</td>\n",
       "      <td>13.0</td>\n",
       "      <td>0.0</td>\n",
       "      <td>1.0</td>\n",
       "    </tr>\n",
       "    <tr>\n",
       "      <th>3</th>\n",
       "      <td>134.0</td>\n",
       "      <td>0.003</td>\n",
       "      <td>0.0</td>\n",
       "      <td>0.008</td>\n",
       "      <td>0.003</td>\n",
       "      <td>0.0</td>\n",
       "      <td>0.0</td>\n",
       "      <td>16.0</td>\n",
       "      <td>2.4</td>\n",
       "      <td>0.0</td>\n",
       "      <td>...</td>\n",
       "      <td>53.0</td>\n",
       "      <td>170.0</td>\n",
       "      <td>11.0</td>\n",
       "      <td>0.0</td>\n",
       "      <td>137.0</td>\n",
       "      <td>134.0</td>\n",
       "      <td>137.0</td>\n",
       "      <td>13.0</td>\n",
       "      <td>1.0</td>\n",
       "      <td>1.0</td>\n",
       "    </tr>\n",
       "    <tr>\n",
       "      <th>4</th>\n",
       "      <td>132.0</td>\n",
       "      <td>0.007</td>\n",
       "      <td>0.0</td>\n",
       "      <td>0.008</td>\n",
       "      <td>0.000</td>\n",
       "      <td>0.0</td>\n",
       "      <td>0.0</td>\n",
       "      <td>16.0</td>\n",
       "      <td>2.4</td>\n",
       "      <td>0.0</td>\n",
       "      <td>...</td>\n",
       "      <td>53.0</td>\n",
       "      <td>170.0</td>\n",
       "      <td>9.0</td>\n",
       "      <td>0.0</td>\n",
       "      <td>137.0</td>\n",
       "      <td>136.0</td>\n",
       "      <td>138.0</td>\n",
       "      <td>11.0</td>\n",
       "      <td>1.0</td>\n",
       "      <td>1.0</td>\n",
       "    </tr>\n",
       "  </tbody>\n",
       "</table>\n",
       "<p>5 rows × 22 columns</p>\n",
       "</div>"
      ],
      "text/plain": [
       "   baseline value  accelerations  fetal_movement  uterine_contractions  \\\n",
       "0           120.0          0.000             0.0                 0.000   \n",
       "1           132.0          0.006             0.0                 0.006   \n",
       "2           133.0          0.003             0.0                 0.008   \n",
       "3           134.0          0.003             0.0                 0.008   \n",
       "4           132.0          0.007             0.0                 0.008   \n",
       "\n",
       "   light_decelerations  severe_decelerations  prolongued_decelerations  \\\n",
       "0                0.000                   0.0                       0.0   \n",
       "1                0.003                   0.0                       0.0   \n",
       "2                0.003                   0.0                       0.0   \n",
       "3                0.003                   0.0                       0.0   \n",
       "4                0.000                   0.0                       0.0   \n",
       "\n",
       "   abnormal_short_term_variability  mean_value_of_short_term_variability  \\\n",
       "0                             73.0                                   0.5   \n",
       "1                             17.0                                   2.1   \n",
       "2                             16.0                                   2.1   \n",
       "3                             16.0                                   2.4   \n",
       "4                             16.0                                   2.4   \n",
       "\n",
       "   percentage_of_time_with_abnormal_long_term_variability  ...  histogram_min  \\\n",
       "0                                               43.0       ...           62.0   \n",
       "1                                                0.0       ...           68.0   \n",
       "2                                                0.0       ...           68.0   \n",
       "3                                                0.0       ...           53.0   \n",
       "4                                                0.0       ...           53.0   \n",
       "\n",
       "   histogram_max  histogram_number_of_peaks  histogram_number_of_zeroes  \\\n",
       "0          126.0                        2.0                         0.0   \n",
       "1          198.0                        6.0                         1.0   \n",
       "2          198.0                        5.0                         1.0   \n",
       "3          170.0                       11.0                         0.0   \n",
       "4          170.0                        9.0                         0.0   \n",
       "\n",
       "   histogram_mode  histogram_mean  histogram_median  histogram_variance  \\\n",
       "0           120.0           137.0             121.0                73.0   \n",
       "1           141.0           136.0             140.0                12.0   \n",
       "2           141.0           135.0             138.0                13.0   \n",
       "3           137.0           134.0             137.0                13.0   \n",
       "4           137.0           136.0             138.0                11.0   \n",
       "\n",
       "   histogram_tendency  fetal_health  \n",
       "0                 1.0           2.0  \n",
       "1                 0.0           1.0  \n",
       "2                 0.0           1.0  \n",
       "3                 1.0           1.0  \n",
       "4                 1.0           1.0  \n",
       "\n",
       "[5 rows x 22 columns]"
      ]
     },
     "execution_count": 2,
     "metadata": {},
     "output_type": "execute_result"
    }
   ],
   "source": [
    "#We'll check to make sure the data loaded properly\n",
    "fetal_data.head()"
   ]
  },
  {
   "cell_type": "code",
   "execution_count": 3,
   "id": "bd329391",
   "metadata": {
    "execution": {
     "iopub.execute_input": "2023-03-06T08:14:34.438871Z",
     "iopub.status.busy": "2023-03-06T08:14:34.438244Z",
     "iopub.status.idle": "2023-03-06T08:14:34.450302Z",
     "shell.execute_reply": "2023-03-06T08:14:34.449071Z"
    },
    "papermill": {
     "duration": 0.030004,
     "end_time": "2023-03-06T08:14:34.453309",
     "exception": false,
     "start_time": "2023-03-06T08:14:34.423305",
     "status": "completed"
    },
    "tags": []
   },
   "outputs": [
    {
     "data": {
      "text/plain": [
       "baseline value                                            0\n",
       "accelerations                                             0\n",
       "fetal_movement                                            0\n",
       "uterine_contractions                                      0\n",
       "light_decelerations                                       0\n",
       "severe_decelerations                                      0\n",
       "prolongued_decelerations                                  0\n",
       "abnormal_short_term_variability                           0\n",
       "mean_value_of_short_term_variability                      0\n",
       "percentage_of_time_with_abnormal_long_term_variability    0\n",
       "mean_value_of_long_term_variability                       0\n",
       "histogram_width                                           0\n",
       "histogram_min                                             0\n",
       "histogram_max                                             0\n",
       "histogram_number_of_peaks                                 0\n",
       "histogram_number_of_zeroes                                0\n",
       "histogram_mode                                            0\n",
       "histogram_mean                                            0\n",
       "histogram_median                                          0\n",
       "histogram_variance                                        0\n",
       "histogram_tendency                                        0\n",
       "fetal_health                                              0\n",
       "dtype: int64"
      ]
     },
     "execution_count": 3,
     "metadata": {},
     "output_type": "execute_result"
    }
   ],
   "source": [
    "#Let's look and see if there are any missing values within this dataset\n",
    "fetal_data.isnull().sum()"
   ]
  },
  {
   "cell_type": "markdown",
   "id": "c25314cc",
   "metadata": {
    "papermill": {
     "duration": 0.009241,
     "end_time": "2023-03-06T08:14:34.471017",
     "exception": false,
     "start_time": "2023-03-06T08:14:34.461776",
     "status": "completed"
    },
    "tags": []
   },
   "source": [
    "Beautiful - the researchers did an incredibly thorough job collecting and prepocessing their data. \n",
    "\n",
    "Note that at this stage, we would usually determine a strategy for dealing with missing values in our dataset, as well as mapping any categorical features to numerical values as appropriate. Addtionally, if our prepocessing was intensive, it would be good practice to define a pipeline to standardize this for us. "
   ]
  },
  {
   "cell_type": "code",
   "execution_count": 4,
   "id": "9b168803",
   "metadata": {
    "execution": {
     "iopub.execute_input": "2023-03-06T08:14:34.488409Z",
     "iopub.status.busy": "2023-03-06T08:14:34.487980Z",
     "iopub.status.idle": "2023-03-06T08:14:34.576950Z",
     "shell.execute_reply": "2023-03-06T08:14:34.575674Z"
    },
    "papermill": {
     "duration": 0.099852,
     "end_time": "2023-03-06T08:14:34.579601",
     "exception": false,
     "start_time": "2023-03-06T08:14:34.479749",
     "status": "completed"
    },
    "tags": []
   },
   "outputs": [
    {
     "data": {
      "text/html": [
       "<div>\n",
       "<style scoped>\n",
       "    .dataframe tbody tr th:only-of-type {\n",
       "        vertical-align: middle;\n",
       "    }\n",
       "\n",
       "    .dataframe tbody tr th {\n",
       "        vertical-align: top;\n",
       "    }\n",
       "\n",
       "    .dataframe thead th {\n",
       "        text-align: right;\n",
       "    }\n",
       "</style>\n",
       "<table border=\"1\" class=\"dataframe\">\n",
       "  <thead>\n",
       "    <tr style=\"text-align: right;\">\n",
       "      <th></th>\n",
       "      <th>baseline value</th>\n",
       "      <th>accelerations</th>\n",
       "      <th>fetal_movement</th>\n",
       "      <th>uterine_contractions</th>\n",
       "      <th>light_decelerations</th>\n",
       "      <th>severe_decelerations</th>\n",
       "      <th>prolongued_decelerations</th>\n",
       "      <th>abnormal_short_term_variability</th>\n",
       "      <th>mean_value_of_short_term_variability</th>\n",
       "      <th>percentage_of_time_with_abnormal_long_term_variability</th>\n",
       "      <th>...</th>\n",
       "      <th>histogram_width</th>\n",
       "      <th>histogram_min</th>\n",
       "      <th>histogram_max</th>\n",
       "      <th>histogram_number_of_peaks</th>\n",
       "      <th>histogram_number_of_zeroes</th>\n",
       "      <th>histogram_mode</th>\n",
       "      <th>histogram_mean</th>\n",
       "      <th>histogram_median</th>\n",
       "      <th>histogram_variance</th>\n",
       "      <th>histogram_tendency</th>\n",
       "    </tr>\n",
       "  </thead>\n",
       "  <tbody>\n",
       "    <tr>\n",
       "      <th>count</th>\n",
       "      <td>2126.000000</td>\n",
       "      <td>2126.000000</td>\n",
       "      <td>2126.000000</td>\n",
       "      <td>2126.000000</td>\n",
       "      <td>2126.000000</td>\n",
       "      <td>2126.000000</td>\n",
       "      <td>2126.000000</td>\n",
       "      <td>2126.000000</td>\n",
       "      <td>2126.000000</td>\n",
       "      <td>2126.00000</td>\n",
       "      <td>...</td>\n",
       "      <td>2126.000000</td>\n",
       "      <td>2126.000000</td>\n",
       "      <td>2126.000000</td>\n",
       "      <td>2126.000000</td>\n",
       "      <td>2126.000000</td>\n",
       "      <td>2126.000000</td>\n",
       "      <td>2126.000000</td>\n",
       "      <td>2126.000000</td>\n",
       "      <td>2126.000000</td>\n",
       "      <td>2126.000000</td>\n",
       "    </tr>\n",
       "    <tr>\n",
       "      <th>mean</th>\n",
       "      <td>133.303857</td>\n",
       "      <td>0.003178</td>\n",
       "      <td>0.009481</td>\n",
       "      <td>0.004366</td>\n",
       "      <td>0.001889</td>\n",
       "      <td>0.000003</td>\n",
       "      <td>0.000159</td>\n",
       "      <td>46.990122</td>\n",
       "      <td>1.332785</td>\n",
       "      <td>9.84666</td>\n",
       "      <td>...</td>\n",
       "      <td>70.445908</td>\n",
       "      <td>93.579492</td>\n",
       "      <td>164.025400</td>\n",
       "      <td>4.068203</td>\n",
       "      <td>0.323612</td>\n",
       "      <td>137.452023</td>\n",
       "      <td>134.610536</td>\n",
       "      <td>138.090310</td>\n",
       "      <td>18.808090</td>\n",
       "      <td>0.320320</td>\n",
       "    </tr>\n",
       "    <tr>\n",
       "      <th>std</th>\n",
       "      <td>9.840844</td>\n",
       "      <td>0.003866</td>\n",
       "      <td>0.046666</td>\n",
       "      <td>0.002946</td>\n",
       "      <td>0.002960</td>\n",
       "      <td>0.000057</td>\n",
       "      <td>0.000590</td>\n",
       "      <td>17.192814</td>\n",
       "      <td>0.883241</td>\n",
       "      <td>18.39688</td>\n",
       "      <td>...</td>\n",
       "      <td>38.955693</td>\n",
       "      <td>29.560212</td>\n",
       "      <td>17.944183</td>\n",
       "      <td>2.949386</td>\n",
       "      <td>0.706059</td>\n",
       "      <td>16.381289</td>\n",
       "      <td>15.593596</td>\n",
       "      <td>14.466589</td>\n",
       "      <td>28.977636</td>\n",
       "      <td>0.610829</td>\n",
       "    </tr>\n",
       "    <tr>\n",
       "      <th>min</th>\n",
       "      <td>106.000000</td>\n",
       "      <td>0.000000</td>\n",
       "      <td>0.000000</td>\n",
       "      <td>0.000000</td>\n",
       "      <td>0.000000</td>\n",
       "      <td>0.000000</td>\n",
       "      <td>0.000000</td>\n",
       "      <td>12.000000</td>\n",
       "      <td>0.200000</td>\n",
       "      <td>0.00000</td>\n",
       "      <td>...</td>\n",
       "      <td>3.000000</td>\n",
       "      <td>50.000000</td>\n",
       "      <td>122.000000</td>\n",
       "      <td>0.000000</td>\n",
       "      <td>0.000000</td>\n",
       "      <td>60.000000</td>\n",
       "      <td>73.000000</td>\n",
       "      <td>77.000000</td>\n",
       "      <td>0.000000</td>\n",
       "      <td>-1.000000</td>\n",
       "    </tr>\n",
       "    <tr>\n",
       "      <th>25%</th>\n",
       "      <td>126.000000</td>\n",
       "      <td>0.000000</td>\n",
       "      <td>0.000000</td>\n",
       "      <td>0.002000</td>\n",
       "      <td>0.000000</td>\n",
       "      <td>0.000000</td>\n",
       "      <td>0.000000</td>\n",
       "      <td>32.000000</td>\n",
       "      <td>0.700000</td>\n",
       "      <td>0.00000</td>\n",
       "      <td>...</td>\n",
       "      <td>37.000000</td>\n",
       "      <td>67.000000</td>\n",
       "      <td>152.000000</td>\n",
       "      <td>2.000000</td>\n",
       "      <td>0.000000</td>\n",
       "      <td>129.000000</td>\n",
       "      <td>125.000000</td>\n",
       "      <td>129.000000</td>\n",
       "      <td>2.000000</td>\n",
       "      <td>0.000000</td>\n",
       "    </tr>\n",
       "    <tr>\n",
       "      <th>50%</th>\n",
       "      <td>133.000000</td>\n",
       "      <td>0.002000</td>\n",
       "      <td>0.000000</td>\n",
       "      <td>0.004000</td>\n",
       "      <td>0.000000</td>\n",
       "      <td>0.000000</td>\n",
       "      <td>0.000000</td>\n",
       "      <td>49.000000</td>\n",
       "      <td>1.200000</td>\n",
       "      <td>0.00000</td>\n",
       "      <td>...</td>\n",
       "      <td>67.500000</td>\n",
       "      <td>93.000000</td>\n",
       "      <td>162.000000</td>\n",
       "      <td>3.000000</td>\n",
       "      <td>0.000000</td>\n",
       "      <td>139.000000</td>\n",
       "      <td>136.000000</td>\n",
       "      <td>139.000000</td>\n",
       "      <td>7.000000</td>\n",
       "      <td>0.000000</td>\n",
       "    </tr>\n",
       "    <tr>\n",
       "      <th>75%</th>\n",
       "      <td>140.000000</td>\n",
       "      <td>0.006000</td>\n",
       "      <td>0.003000</td>\n",
       "      <td>0.007000</td>\n",
       "      <td>0.003000</td>\n",
       "      <td>0.000000</td>\n",
       "      <td>0.000000</td>\n",
       "      <td>61.000000</td>\n",
       "      <td>1.700000</td>\n",
       "      <td>11.00000</td>\n",
       "      <td>...</td>\n",
       "      <td>100.000000</td>\n",
       "      <td>120.000000</td>\n",
       "      <td>174.000000</td>\n",
       "      <td>6.000000</td>\n",
       "      <td>0.000000</td>\n",
       "      <td>148.000000</td>\n",
       "      <td>145.000000</td>\n",
       "      <td>148.000000</td>\n",
       "      <td>24.000000</td>\n",
       "      <td>1.000000</td>\n",
       "    </tr>\n",
       "    <tr>\n",
       "      <th>max</th>\n",
       "      <td>160.000000</td>\n",
       "      <td>0.019000</td>\n",
       "      <td>0.481000</td>\n",
       "      <td>0.015000</td>\n",
       "      <td>0.015000</td>\n",
       "      <td>0.001000</td>\n",
       "      <td>0.005000</td>\n",
       "      <td>87.000000</td>\n",
       "      <td>7.000000</td>\n",
       "      <td>91.00000</td>\n",
       "      <td>...</td>\n",
       "      <td>180.000000</td>\n",
       "      <td>159.000000</td>\n",
       "      <td>238.000000</td>\n",
       "      <td>18.000000</td>\n",
       "      <td>10.000000</td>\n",
       "      <td>187.000000</td>\n",
       "      <td>182.000000</td>\n",
       "      <td>186.000000</td>\n",
       "      <td>269.000000</td>\n",
       "      <td>1.000000</td>\n",
       "    </tr>\n",
       "  </tbody>\n",
       "</table>\n",
       "<p>8 rows × 21 columns</p>\n",
       "</div>"
      ],
      "text/plain": [
       "       baseline value  accelerations  fetal_movement  uterine_contractions  \\\n",
       "count     2126.000000    2126.000000     2126.000000           2126.000000   \n",
       "mean       133.303857       0.003178        0.009481              0.004366   \n",
       "std          9.840844       0.003866        0.046666              0.002946   \n",
       "min        106.000000       0.000000        0.000000              0.000000   \n",
       "25%        126.000000       0.000000        0.000000              0.002000   \n",
       "50%        133.000000       0.002000        0.000000              0.004000   \n",
       "75%        140.000000       0.006000        0.003000              0.007000   \n",
       "max        160.000000       0.019000        0.481000              0.015000   \n",
       "\n",
       "       light_decelerations  severe_decelerations  prolongued_decelerations  \\\n",
       "count          2126.000000           2126.000000               2126.000000   \n",
       "mean              0.001889              0.000003                  0.000159   \n",
       "std               0.002960              0.000057                  0.000590   \n",
       "min               0.000000              0.000000                  0.000000   \n",
       "25%               0.000000              0.000000                  0.000000   \n",
       "50%               0.000000              0.000000                  0.000000   \n",
       "75%               0.003000              0.000000                  0.000000   \n",
       "max               0.015000              0.001000                  0.005000   \n",
       "\n",
       "       abnormal_short_term_variability  mean_value_of_short_term_variability  \\\n",
       "count                      2126.000000                           2126.000000   \n",
       "mean                         46.990122                              1.332785   \n",
       "std                          17.192814                              0.883241   \n",
       "min                          12.000000                              0.200000   \n",
       "25%                          32.000000                              0.700000   \n",
       "50%                          49.000000                              1.200000   \n",
       "75%                          61.000000                              1.700000   \n",
       "max                          87.000000                              7.000000   \n",
       "\n",
       "       percentage_of_time_with_abnormal_long_term_variability  ...  \\\n",
       "count                                         2126.00000       ...   \n",
       "mean                                             9.84666       ...   \n",
       "std                                             18.39688       ...   \n",
       "min                                              0.00000       ...   \n",
       "25%                                              0.00000       ...   \n",
       "50%                                              0.00000       ...   \n",
       "75%                                             11.00000       ...   \n",
       "max                                             91.00000       ...   \n",
       "\n",
       "       histogram_width  histogram_min  histogram_max  \\\n",
       "count      2126.000000    2126.000000    2126.000000   \n",
       "mean         70.445908      93.579492     164.025400   \n",
       "std          38.955693      29.560212      17.944183   \n",
       "min           3.000000      50.000000     122.000000   \n",
       "25%          37.000000      67.000000     152.000000   \n",
       "50%          67.500000      93.000000     162.000000   \n",
       "75%         100.000000     120.000000     174.000000   \n",
       "max         180.000000     159.000000     238.000000   \n",
       "\n",
       "       histogram_number_of_peaks  histogram_number_of_zeroes  histogram_mode  \\\n",
       "count                2126.000000                 2126.000000     2126.000000   \n",
       "mean                    4.068203                    0.323612      137.452023   \n",
       "std                     2.949386                    0.706059       16.381289   \n",
       "min                     0.000000                    0.000000       60.000000   \n",
       "25%                     2.000000                    0.000000      129.000000   \n",
       "50%                     3.000000                    0.000000      139.000000   \n",
       "75%                     6.000000                    0.000000      148.000000   \n",
       "max                    18.000000                   10.000000      187.000000   \n",
       "\n",
       "       histogram_mean  histogram_median  histogram_variance  \\\n",
       "count     2126.000000       2126.000000         2126.000000   \n",
       "mean       134.610536        138.090310           18.808090   \n",
       "std         15.593596         14.466589           28.977636   \n",
       "min         73.000000         77.000000            0.000000   \n",
       "25%        125.000000        129.000000            2.000000   \n",
       "50%        136.000000        139.000000            7.000000   \n",
       "75%        145.000000        148.000000           24.000000   \n",
       "max        182.000000        186.000000          269.000000   \n",
       "\n",
       "       histogram_tendency  \n",
       "count         2126.000000  \n",
       "mean             0.320320  \n",
       "std              0.610829  \n",
       "min             -1.000000  \n",
       "25%              0.000000  \n",
       "50%              0.000000  \n",
       "75%              1.000000  \n",
       "max              1.000000  \n",
       "\n",
       "[8 rows x 21 columns]"
      ]
     },
     "execution_count": 4,
     "metadata": {},
     "output_type": "execute_result"
    }
   ],
   "source": [
    "#First we'll extract the features we want to use for prediction in our dataset\n",
    "X = fetal_data.drop('fetal_health', axis=1)\n",
    "\n",
    "#We'll take a high level statistical overview of these biological features\n",
    "X.describe()"
   ]
  },
  {
   "cell_type": "code",
   "execution_count": 5,
   "id": "da6c2719",
   "metadata": {
    "execution": {
     "iopub.execute_input": "2023-03-06T08:14:34.598348Z",
     "iopub.status.busy": "2023-03-06T08:14:34.596826Z",
     "iopub.status.idle": "2023-03-06T08:14:34.610137Z",
     "shell.execute_reply": "2023-03-06T08:14:34.608848Z"
    },
    "papermill": {
     "duration": 0.025665,
     "end_time": "2023-03-06T08:14:34.612699",
     "exception": false,
     "start_time": "2023-03-06T08:14:34.587034",
     "status": "completed"
    },
    "tags": []
   },
   "outputs": [
    {
     "data": {
      "text/plain": [
       "1.0    1655\n",
       "2.0     295\n",
       "3.0     176\n",
       "Name: fetal_health, dtype: int64"
      ]
     },
     "execution_count": 5,
     "metadata": {},
     "output_type": "execute_result"
    }
   ],
   "source": [
    "#Next, we'll extract our classification target\n",
    "y = fetal_data['fetal_health']\n",
    "\n",
    "#Let's look at the frequency of each class in this dataset\n",
    "y.value_counts()"
   ]
  },
  {
   "cell_type": "code",
   "execution_count": 6,
   "id": "24437122",
   "metadata": {
    "execution": {
     "iopub.execute_input": "2023-03-06T08:14:34.630800Z",
     "iopub.status.busy": "2023-03-06T08:14:34.629645Z",
     "iopub.status.idle": "2023-03-06T08:14:36.030498Z",
     "shell.execute_reply": "2023-03-06T08:14:36.029247Z"
    },
    "papermill": {
     "duration": 1.413173,
     "end_time": "2023-03-06T08:14:36.033354",
     "exception": false,
     "start_time": "2023-03-06T08:14:34.620181",
     "status": "completed"
    },
    "tags": []
   },
   "outputs": [
    {
     "data": {
      "text/plain": [
       "Text(0, 0.5, 'Frequency')"
      ]
     },
     "execution_count": 6,
     "metadata": {},
     "output_type": "execute_result"
    },
    {
     "data": {
      "image/png": "[encoded data removed]",
      "text/plain": [
       "<Figure size 1000x600 with 1 Axes>"
      ]
     },
     "metadata": {},
     "output_type": "display_data"
    }
   ],
   "source": [
    "#Let's visualize our class\n",
    "from matplotlib import pyplot as plt\n",
    "import seaborn as sns\n",
    "\n",
    "classes = ['Normal', 'Suspect', 'Pathological']\n",
    "plt.figure(figsize=(10, 6))\n",
    "plt.title('Fetal Health Outcomes', fontsize=16)\n",
    "sns.barplot(x=classes, y=y.value_counts(), palette='Set2')\n",
    "plt.ylabel('Frequency', fontsize=12)\n"
   ]
  },
  {
   "cell_type": "markdown",
   "id": "08c657fd",
   "metadata": {
    "papermill": {
     "duration": 0.00806,
     "end_time": "2023-03-06T08:14:36.049999",
     "exception": false,
     "start_time": "2023-03-06T08:14:36.041939",
     "status": "completed"
    },
    "tags": []
   },
   "source": [
    "It looks like in this dataset 1655 birth events were categorized as Normal, 295 as Suspect, and 176 as pathological by the expert obstetricians who collaborated with the research.\n",
    "\n",
    "**Note that the researchers decided to use ordinal encoding for mapping their class variable to float values.**"
   ]
  },
  {
   "cell_type": "code",
   "execution_count": 7,
   "id": "c836ba25",
   "metadata": {
    "execution": {
     "iopub.execute_input": "2023-03-06T08:14:36.068289Z",
     "iopub.status.busy": "2023-03-06T08:14:36.067321Z",
     "iopub.status.idle": "2023-03-06T08:14:36.295622Z",
     "shell.execute_reply": "2023-03-06T08:14:36.294553Z"
    },
    "papermill": {
     "duration": 0.240315,
     "end_time": "2023-03-06T08:14:36.298260",
     "exception": false,
     "start_time": "2023-03-06T08:14:36.057945",
     "status": "completed"
    },
    "tags": []
   },
   "outputs": [],
   "source": [
    "#Now we'll split our data into training and test sets for validating our models\n",
    "from sklearn.model_selection import train_test_split\n",
    "\n",
    "X_train, X_test, y_train, y_test = train_test_split(X, y, train_size=0.8, \n",
    "                                                    test_size=0.2, random_state=0)"
   ]
  },
  {
   "cell_type": "markdown",
   "id": "9a563082",
   "metadata": {
    "papermill": {
     "duration": 0.007684,
     "end_time": "2023-03-06T08:14:36.314978",
     "exception": false,
     "start_time": "2023-03-06T08:14:36.307294",
     "status": "completed"
    },
    "tags": []
   },
   "source": [
    "# **Here we'll define and test 3 separate machine learning algorithms for making classifications with this dataset.**\n",
    "\n",
    "The algorithms we'll use on this dataset are:\n",
    "1. RandomForestClassifier\n",
    "2. KNeighborsClassifer\n",
    "3. SVC"
   ]
  },
  {
   "cell_type": "code",
   "execution_count": 8,
   "id": "04b1efa9",
   "metadata": {
    "execution": {
     "iopub.execute_input": "2023-03-06T08:14:36.333260Z",
     "iopub.status.busy": "2023-03-06T08:14:36.332472Z",
     "iopub.status.idle": "2023-03-06T08:14:36.704345Z",
     "shell.execute_reply": "2023-03-06T08:14:36.703202Z"
    },
    "papermill": {
     "duration": 0.384319,
     "end_time": "2023-03-06T08:14:36.707324",
     "exception": false,
     "start_time": "2023-03-06T08:14:36.323005",
     "status": "completed"
    },
    "tags": []
   },
   "outputs": [],
   "source": [
    "#Model imports\n",
    "from sklearn.ensemble import RandomForestClassifier\n",
    "from sklearn.neighbors import KNeighborsClassifier\n",
    "from sklearn.svm import SVC\n",
    "\n",
    "#Validation\n",
    "from sklearn.metrics import mean_absolute_error\n"
   ]
  },
  {
   "cell_type": "markdown",
   "id": "31733c1f",
   "metadata": {
    "papermill": {
     "duration": 0.008169,
     "end_time": "2023-03-06T08:14:36.723583",
     "exception": false,
     "start_time": "2023-03-06T08:14:36.715414",
     "status": "completed"
    },
    "tags": []
   },
   "source": [
    "**1) RandomForestClassifier**. \n",
    "\n",
    "The reason in starting here is that it's well established that both decision trees and random forests perform well when making classifications on clinical observations, particularly in this case where our data has been annotated by medical experts. Here we're primarily interested in modeling these experts' clinical decision making. \n",
    "\n",
    "The parameter we'll optimize is n_estimators. "
   ]
  },
  {
   "cell_type": "code",
   "execution_count": 9,
   "id": "c11a343e",
   "metadata": {
    "execution": {
     "iopub.execute_input": "2023-03-06T08:14:36.741668Z",
     "iopub.status.busy": "2023-03-06T08:14:36.741115Z",
     "iopub.status.idle": "2023-03-06T08:14:38.883782Z",
     "shell.execute_reply": "2023-03-06T08:14:38.881125Z"
    },
    "papermill": {
     "duration": 2.155625,
     "end_time": "2023-03-06T08:14:38.887097",
     "exception": false,
     "start_time": "2023-03-06T08:14:36.731472",
     "status": "completed"
    },
    "tags": []
   },
   "outputs": [
    {
     "name": "stdout",
     "output_type": "stream",
     "text": [
      "The MAE for Forest_Model_1 is: 0.08685446009389672\n",
      "The MAE for Forest_Model_2 is: 0.07981220657276995\n",
      "The MAE for Forest_Model_3 is: 0.06572769953051644\n",
      "The MAE for Forest_Model_4 is: 0.07042253521126761\n",
      "The MAE for Forest_Model_5 is: 0.06807511737089202\n"
     ]
    }
   ],
   "source": [
    "#Define some RandomForestClassifier models\n",
    "forest_model_1 = RandomForestClassifier(n_estimators=10, random_state=0)\n",
    "forest_model_2 = RandomForestClassifier(n_estimators=50, random_state=0)\n",
    "forest_model_3 = RandomForestClassifier(n_estimators=100, random_state=0)\n",
    "forest_model_4 = RandomForestClassifier(n_estimators=150, random_state=0)\n",
    "forest_model_5 = RandomForestClassifier(n_estimators=200, random_state=0)\n",
    "\n",
    "forest_models = [forest_model_1, forest_model_2, forest_model_3, \n",
    "                 forest_model_4, forest_model_5]\n",
    "\n",
    "#Create a function that will score each model using mean_absolute_error\n",
    "def score_model(model, X_t=X_train, X_v=X_test, y_t=y_train, y_v=y_test):\n",
    "    model.fit(X_t, y_t)\n",
    "    preds = model.predict(X_v)\n",
    "    return mean_absolute_error(y_v, preds)\n",
    "\n",
    "#Iterate through each model and measure its performance based on our n_estimators\n",
    "#parameter\n",
    "for i in range(0, len(forest_models)):\n",
    "    mae = score_model(forest_models[i])\n",
    "    print(f'The MAE for Forest_Model_{i+1} is: {mae}')\n",
    "    "
   ]
  },
  {
   "cell_type": "markdown",
   "id": "e6af1f14",
   "metadata": {
    "papermill": {
     "duration": 0.008063,
     "end_time": "2023-03-06T08:14:38.904771",
     "exception": false,
     "start_time": "2023-03-06T08:14:38.896708",
     "status": "completed"
    },
    "tags": []
   },
   "source": [
    "It's clear that n_estimators = 100 is the best parameter value for our RandomForestClassifier, which is the default value for this model! Note also that this MAE is quite good so far."
   ]
  },
  {
   "cell_type": "markdown",
   "id": "fb51f23b",
   "metadata": {
    "papermill": {
     "duration": 0.008769,
     "end_time": "2023-03-06T08:14:38.922747",
     "exception": false,
     "start_time": "2023-03-06T08:14:38.913978",
     "status": "completed"
    },
    "tags": []
   },
   "source": [
    "**2) KNeighborsClassifer.**\n",
    "\n",
    "The first thing we'll determine is whether to use weighted KNN or not, as this does sometimes vary in performance from dataset to dataset. Note that we're holding n_neighbors constant here.\n"
   ]
  },
  {
   "cell_type": "code",
   "execution_count": 10,
   "id": "bcbae439",
   "metadata": {
    "execution": {
     "iopub.execute_input": "2023-03-06T08:14:38.943130Z",
     "iopub.status.busy": "2023-03-06T08:14:38.942059Z",
     "iopub.status.idle": "2023-03-06T08:14:39.065156Z",
     "shell.execute_reply": "2023-03-06T08:14:39.063148Z"
    },
    "papermill": {
     "duration": 0.138188,
     "end_time": "2023-03-06T08:14:39.070014",
     "exception": false,
     "start_time": "2023-03-06T08:14:38.931826",
     "status": "completed"
    },
    "tags": []
   },
   "outputs": [
    {
     "name": "stdout",
     "output_type": "stream",
     "text": [
      "The MAE for Knn_Model_uniform is: 0.13615023474178403\n",
      "The MAE for Knn_Model_distance is: 0.12441314553990611\n"
     ]
    }
   ],
   "source": [
    "#Define a normal and a weighted KNN model\n",
    "normal_model = KNeighborsClassifier(weights='uniform')\n",
    "weighted_model = KNeighborsClassifier(weights='distance')\n",
    "\n",
    "isoform_test = [normal_model, weighted_model]\n",
    "\n",
    "#Test which KNeighborsClassifer isoform performs better\n",
    "for i in range(0, len(isoform_test)):\n",
    "    isoform_mae = score_model(isoform_test[i])\n",
    "    print(f'The MAE for Knn_Model_{isoform_test[i].weights} is: {isoform_mae}')"
   ]
  },
  {
   "cell_type": "markdown",
   "id": "c463571b",
   "metadata": {
    "papermill": {
     "duration": 0.022748,
     "end_time": "2023-03-06T08:14:39.114455",
     "exception": false,
     "start_time": "2023-03-06T08:14:39.091707",
     "status": "completed"
    },
    "tags": []
   },
   "source": [
    "It's clear that weighted k nearest neighbors performs better here, so we'll use it moving forward."
   ]
  },
  {
   "cell_type": "code",
   "execution_count": 11,
   "id": "ab4fc7e2",
   "metadata": {
    "execution": {
     "iopub.execute_input": "2023-03-06T08:14:39.157414Z",
     "iopub.status.busy": "2023-03-06T08:14:39.156983Z",
     "iopub.status.idle": "2023-03-06T08:14:39.417885Z",
     "shell.execute_reply": "2023-03-06T08:14:39.415392Z"
    },
    "papermill": {
     "duration": 0.286936,
     "end_time": "2023-03-06T08:14:39.423649",
     "exception": false,
     "start_time": "2023-03-06T08:14:39.136713",
     "status": "completed"
    },
    "tags": []
   },
   "outputs": [
    {
     "name": "stdout",
     "output_type": "stream",
     "text": [
      "The MAE for Knn_Model_1 is: 0.11502347417840375\n",
      "The MAE for Knn_Model_2 is: 0.11971830985915492\n",
      "The MAE for Knn_Model_3 is: 0.12441314553990611\n",
      "The MAE for Knn_Model_4 is: 0.1267605633802817\n",
      "The MAE for Knn_Model_5 is: 0.13615023474178403\n",
      "The MAE for Knn_Model_6 is: 0.13145539906103287\n"
     ]
    }
   ],
   "source": [
    "#We'll define some different weighted KNeighborsClassifer models\n",
    "knn_model_1 = KNeighborsClassifier(n_neighbors=2, weights='distance')\n",
    "knn_model_2 = KNeighborsClassifier(n_neighbors=3, weights='distance')\n",
    "knn_model_3 = KNeighborsClassifier(n_neighbors=5, weights='distance')\n",
    "knn_model_4 = KNeighborsClassifier(n_neighbors=10, weights='distance')\n",
    "knn_model_5 = KNeighborsClassifier(n_neighbors=15, weights='distance')\n",
    "knn_model_6 = KNeighborsClassifier(n_neighbors=20, weights='distance')\n",
    "\n",
    "knn_models = [knn_model_1, knn_model_2, knn_model_3, knn_model_4, knn_model_5, knn_model_6]\n",
    "\n",
    "#Now we'll score each model using mean_absolute_error\n",
    "for i in range(0, len(knn_models)):\n",
    "    knn_mae = score_model(knn_models[i])\n",
    "    print(f'The MAE for Knn_Model_{i+1} is: {knn_mae}')"
   ]
  },
  {
   "cell_type": "markdown",
   "id": "7ff2f41a",
   "metadata": {
    "papermill": {
     "duration": 0.024647,
     "end_time": "2023-03-06T08:14:39.471717",
     "exception": false,
     "start_time": "2023-03-06T08:14:39.447070",
     "status": "completed"
    },
    "tags": []
   },
   "source": [
    "Our KNeighborsClassifier model performs best with n_neighbors = 2. Interestingly enough, it looks like our MAE starts to look non monotonic at k_neighbors = 20. This however is an extreme number of neighbors. \n",
    "\n",
    "For scalability reasons applying this model to classify new observations outside of our dataset, I don't think it's a good idea to go below n_neighbors = 2, so we'll take this as our best KNeighborsClassifier model.  "
   ]
  },
  {
   "cell_type": "markdown",
   "id": "3a436bff",
   "metadata": {
    "papermill": {
     "duration": 0.009368,
     "end_time": "2023-03-06T08:14:39.504983",
     "exception": false,
     "start_time": "2023-03-06T08:14:39.495615",
     "status": "completed"
    },
    "tags": []
   },
   "source": [
    "**3) SVC (Support Vector Classifier)**\n",
    "\n",
    "Here we'll use three different kernels: rbf, sigmoid, and poly, and determine which performs best with our dataset. "
   ]
  },
  {
   "cell_type": "code",
   "execution_count": 12,
   "id": "d88ab748",
   "metadata": {
    "execution": {
     "iopub.execute_input": "2023-03-06T08:14:39.525442Z",
     "iopub.status.busy": "2023-03-06T08:14:39.524988Z",
     "iopub.status.idle": "2023-03-06T08:14:39.870079Z",
     "shell.execute_reply": "2023-03-06T08:14:39.868670Z"
    },
    "papermill": {
     "duration": 0.359172,
     "end_time": "2023-03-06T08:14:39.873213",
     "exception": false,
     "start_time": "2023-03-06T08:14:39.514041",
     "status": "completed"
    },
    "tags": []
   },
   "outputs": [
    {
     "name": "stdout",
     "output_type": "stream",
     "text": [
      "The MAE for SVC_Model_1 is: 0.18309859154929578\n",
      "The MAE for SVC_Model_2 is: 0.3685446009389671\n",
      "The MAE for SVC_Model_3 is: 0.17370892018779344\n"
     ]
    }
   ],
   "source": [
    "#Define some SVC models\n",
    "svc_model_1 = SVC(kernel='rbf')\n",
    "svc_model_2 = SVC(kernel='sigmoid')\n",
    "svc_model_3 = SVC(kernel='poly')\n",
    "\n",
    "svc_models = [svc_model_1, svc_model_2, svc_model_3]\n",
    "\n",
    "#And we'll test each of these SVCs\n",
    "for i in range(0, len(svc_models)):\n",
    "    svc_mae = score_model(svc_models[i])\n",
    "    print(f'The MAE for SVC_Model_{i+1} is: {svc_mae}')\n"
   ]
  },
  {
   "cell_type": "markdown",
   "id": "22f97681",
   "metadata": {
    "papermill": {
     "duration": 0.008503,
     "end_time": "2023-03-06T08:14:39.890872",
     "exception": false,
     "start_time": "2023-03-06T08:14:39.882369",
     "status": "completed"
    },
    "tags": []
   },
   "source": [
    "It's clear here that the poly kernel performs best out of our three SVC models, while the sigmoid kernel has by far the worst performance from any model we've applied. "
   ]
  },
  {
   "cell_type": "code",
   "execution_count": 13,
   "id": "a4d5d0dd",
   "metadata": {
    "execution": {
     "iopub.execute_input": "2023-03-06T08:14:39.910830Z",
     "iopub.status.busy": "2023-03-06T08:14:39.910367Z",
     "iopub.status.idle": "2023-03-06T08:14:40.988022Z",
     "shell.execute_reply": "2023-03-06T08:14:40.986332Z"
    },
    "papermill": {
     "duration": 1.092236,
     "end_time": "2023-03-06T08:14:40.991944",
     "exception": false,
     "start_time": "2023-03-06T08:14:39.899708",
     "status": "completed"
    },
    "tags": []
   },
   "outputs": [
    {
     "name": "stdout",
     "output_type": "stream",
     "text": [
      "The MAE for our final RandomForestClassifier(random_state=0)_Model is: 0.06572769953051644\n",
      "The MAE for our final KNeighborsClassifier(weights='distance')_Model is: 0.12441314553990611\n",
      "The MAE for our final SVC(kernel='poly')_Model is: 0.17370892018779344\n"
     ]
    }
   ],
   "source": [
    "best_models = [forest_model_3, knn_model_3, svc_model_3]\n",
    "\n",
    "#We'll train each of our selected models on our full dataset\n",
    "for model in best_models:\n",
    "    model.fit(X, y)\n",
    "\n",
    "#Display each model along with its MAE\n",
    "maes = []\n",
    "for i in range(0, len(best_models)):\n",
    "    mae = score_model(best_models[i])\n",
    "    maes.append(mae)\n",
    "    print(f'The MAE for our final {best_models[i]}_Model is: {mae}')\n"
   ]
  },
  {
   "cell_type": "code",
   "execution_count": 14,
   "id": "04057c1a",
   "metadata": {
    "execution": {
     "iopub.execute_input": "2023-03-06T08:14:41.011620Z",
     "iopub.status.busy": "2023-03-06T08:14:41.011172Z",
     "iopub.status.idle": "2023-03-06T08:14:41.274545Z",
     "shell.execute_reply": "2023-03-06T08:14:41.273335Z"
    },
    "papermill": {
     "duration": 0.276302,
     "end_time": "2023-03-06T08:14:41.277307",
     "exception": false,
     "start_time": "2023-03-06T08:14:41.001005",
     "status": "completed"
    },
    "tags": []
   },
   "outputs": [
    {
     "data": {
      "image/png": "[encoded data removed]",
      "text/plain": [
       "<Figure size 1200x600 with 1 Axes>"
      ]
     },
     "metadata": {},
     "output_type": "display_data"
    }
   ],
   "source": [
    "#Lets visualize these results\n",
    "plt.figure(figsize=(12,6))\n",
    "plt.title('Final Model Mean Absolute Error', fontsize=16)\n",
    "plt.ylabel('MAE', fontsize=12)\n",
    "ax = sns.barplot(x=['RandomForestClassifier', 'KNeighborsClassifer', 'SVC'], \n",
    "                 y=maes)\n"
   ]
  },
  {
   "cell_type": "markdown",
   "id": "25b198e2",
   "metadata": {
    "papermill": {
     "duration": 0.008782,
     "end_time": "2023-03-06T08:14:41.295525",
     "exception": false,
     "start_time": "2023-03-06T08:14:41.286743",
     "status": "completed"
    },
    "tags": []
   },
   "source": [
    "# **Conclusions:**\n",
    "\n",
    "**The RandomForestClassifier performed the best on this dataset by far.**\n",
    "\n",
    "Using the information we empirically found in this analysis, along with the model that we've already trained, we can further develop tools that could be used to identify at risk fetuses during a birth event in real time. \n",
    "\n",
    "One incredibly useful property of random forests is that they push the most influential variables to the top of the tree. We could look for variables the random forest identified as having strong predictive power in classifying outcomes and specifically monitor adverse changes in those variables that might predict pathology in birth. A clinician could use this information to mobilize preventative measures before a full decomposition of patient health is actually reached."
   ]
  },
  {
   "cell_type": "code",
   "execution_count": 15,
   "id": "b411a927",
   "metadata": {
    "execution": {
     "iopub.execute_input": "2023-03-06T08:14:41.315646Z",
     "iopub.status.busy": "2023-03-06T08:14:41.315195Z",
     "iopub.status.idle": "2023-03-06T08:14:41.320760Z",
     "shell.execute_reply": "2023-03-06T08:14:41.319830Z"
    },
    "papermill": {
     "duration": 0.018287,
     "end_time": "2023-03-06T08:14:41.322998",
     "exception": false,
     "start_time": "2023-03-06T08:14:41.304711",
     "status": "completed"
    },
    "tags": []
   },
   "outputs": [],
   "source": [
    "\"\"\"We now have 3 fully trained models that we can use to make classifications on\n",
    "fetal cardiotocogram data!\"\"\"\n",
    "final_forest_model, final_knn_model, final_svc_model = best_models"
   ]
  }
 ],
 "metadata": {
  "kernelspec": {
   "display_name": "Python 3",
   "language": "python",
   "name": "python3"
  },
  "language_info": {
   "codemirror_mode": {
    "name": "ipython",
    "version": 3
   },
   "file_extension": ".py",
   "mimetype": "text/x-python",
   "name": "python",
   "nbconvert_exporter": "python",
   "pygments_lexer": "ipython3",
   "version": "3.7.12"
  },
  "papermill": {
   "default_parameters": {},
   "duration": 18.564035,
   "end_time": "2023-03-06T08:14:42.155866",
   "environment_variables": {},
   "exception": null,
   "input_path": "__notebook__.ipynb",
   "output_path": "__notebook__.ipynb",
   "parameters": {},
   "start_time": "2023-03-06T08:14:23.591831",
   "version": "2.4.0"
  }
 },
 "nbformat": 4,
 "nbformat_minor": 5
}
